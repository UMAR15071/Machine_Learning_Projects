{
 "cells": [
  {
   "cell_type": "markdown",
   "metadata": {},
   "source": [
    "# Linear Regression\n",
    "This is my first Project on Linear Regression. In this Project I will try to predict the car fuel effeciency based on current data using my linear regression model.\n",
    "\n",
    "There are several steps involved in it I have a decent amount of data which I got from https://www.fueleconomy.gov/feg/download.shtml which contains information related to cars and there mpg(miles per gallon).\n",
    "\n",
    "The problem with this data is although it is excel sheet and csv file. There is still a small amount of incononsistencies in the data. \n",
    "\n",
    "Our first few steps will involve making our data uniform and properly labelled, so that our model can easily and effectively train on the model.\n",
    "\n",
    "Right now I have data from 2000 till 2025. The first problem involves, how can I make the data in a uniform file format, because our data is in mixed files.\n",
    "\n",
    "Since the majority of data files are in excel format. I will go ahead and make the other .csv files to .xlsx files."
   ]
  },
  {
   "cell_type": "code",
   "execution_count": 1,
   "metadata": {},
   "outputs": [],
   "source": [
    "import os\n",
    "import pandas as pd"
   ]
  },
  {
   "cell_type": "code",
   "execution_count": null,
   "metadata": {},
   "outputs": [],
   "source": [
    "# in the bellow cell, we will convert all the .csv files to .xlsx files in order to achieve uniform file format for our data\n",
    "csv_directory = 'Data/'\n",
    "\n",
    "for filename in os.listdir(csv_directory):\n",
    "    if filename.endswith('.csv'):\n",
    "        \n",
    "        csv_file = os.path.join(csv_directory, filename)\n",
    "        df = pd.read_csv(csv_file, on_bad_lines='skip')\n",
    "\n",
    "        \n",
    "        \n",
    "        excel_file = os.path.join(csv_directory, filename.replace('.csv', '.xlsx'))\n",
    "\n",
    "        df.to_excel(excel_file, index=False)\n",
    "        print(f'Converted {filename} to {excel_file}')\n",
    "\n",
    "        os.remove(csv_file)\n",
    "        print(f'Deleted {csv_file}')"
   ]
  }
 ],
 "metadata": {
  "kernelspec": {
   "display_name": "myenv",
   "language": "python",
   "name": "python3"
  },
  "language_info": {
   "codemirror_mode": {
    "name": "ipython",
    "version": 3
   },
   "file_extension": ".py",
   "mimetype": "text/x-python",
   "name": "python",
   "nbconvert_exporter": "python",
   "pygments_lexer": "ipython3",
   "version": "3.12.3"
  }
 },
 "nbformat": 4,
 "nbformat_minor": 2
}
