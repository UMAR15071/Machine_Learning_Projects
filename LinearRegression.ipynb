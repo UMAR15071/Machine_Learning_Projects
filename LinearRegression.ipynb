{
 "cells": [
  {
   "cell_type": "markdown",
   "metadata": {},
   "source": [
    "# Linear Regression\n",
    "This is my first Project on Linear Regression. In this Project I will try to predict the car fuel effeciency based on current data using my linear regression model.\n",
    "\n",
    "There are several steps involved in it I have a decent amount of data which I got from https://www.fueleconomy.gov/feg/download.shtml which contains information related to cars and there mpg(miles per gallon).\n",
    "\n",
    "The problem with this data is although it is excel sheet and csv file. There is still a small amount of incononsistencies in the data. \n",
    "\n",
    "Our first few steps will involve making our data uniform and properly labelled, so that our model can easily and effectively train on the model.\n",
    "\n",
    "Right now I have data from 2000 till 2025. The first problem involves, how can I make the data in a uniform file format, because our data is in mixed files.\n",
    "\n",
    "Since the majority of data files are in excel format. I will go ahead and make the other .csv files to .xlsx files."
   ]
  },
  {
   "cell_type": "code",
   "execution_count": 1,
   "metadata": {},
   "outputs": [],
   "source": [
    "import os\n",
    "import pandas as pd"
   ]
  },
  {
   "cell_type": "code",
   "execution_count": 2,
   "metadata": {},
   "outputs": [
    {
     "name": "stdout",
     "output_type": "stream",
     "text": [
      "Converted 2006_FE_Guide_14-Nov-2005_download.csv to Data/2006_FE_Guide_14-Nov-2005_download.xlsx\n",
      "Deleted Data/2006_FE_Guide_14-Nov-2005_download.csv\n",
      "Converted 2008_FE_guide_ALL_rel_dates_-no sales-for DOE-5-1-08.csv to Data/2008_FE_guide_ALL_rel_dates_-no sales-for DOE-5-1-08.xlsx\n",
      "Deleted Data/2008_FE_guide_ALL_rel_dates_-no sales-for DOE-5-1-08.csv\n",
      "Converted guide_2003_feb04-03b.csv to Data/guide_2003_feb04-03b.xlsx\n",
      "Deleted Data/guide_2003_feb04-03b.csv\n",
      "Converted guide2005-2004oct15.csv to Data/guide2005-2004oct15.xlsx\n",
      "Deleted Data/guide2005-2004oct15.csv\n",
      "Converted gd04-Feb1804-RelDtFeb20.csv to Data/gd04-Feb1804-RelDtFeb20.xlsx\n",
      "Deleted Data/gd04-Feb1804-RelDtFeb20.csv\n"
     ]
    }
   ],
   "source": [
    "# in the bellow cell, we will convert all the .csv files to .xlsx files in order to achieve uniform file format for our data\n",
    "csv_directory = 'Data/'\n",
    "\n",
    "for filename in os.listdir(csv_directory):\n",
    "    if filename.endswith('.csv'):\n",
    "        \n",
    "        csv_file = os.path.join(csv_directory, filename)\n",
    "        df = pd.read_csv(csv_file, on_bad_lines='skip')\n",
    "\n",
    "        \n",
    "        \n",
    "        excel_file = os.path.join(csv_directory, filename.replace('.csv', '.xlsx'))\n",
    "\n",
    "        df.to_excel(excel_file, index=False)\n",
    "        print(f'Converted {filename} to {excel_file}')\n",
    "\n",
    "        os.remove(csv_file)\n",
    "        print(f'Deleted {csv_file}')"
   ]
  },
  {
   "cell_type": "markdown",
   "metadata": {},
   "source": [
    "It is visible from the above output that all the files has been converted, now we will proceed with our next inconsistency which is our file names. As you can see all the files have long and different names, which might become a peoblem when we will merge them into one (This is only an assumption). I think the better way to change the names of our file will be if we name it with the year's data it consist. I will try my best to keep this automated but looking at some files. It is not possible, so after automated task, I will perform the remaining manually.\n",
    "\n",
    "If we notice the patteren most of the recent files follow the same pattren in their names, which will be very helpful to automate the task. The name provide too much information like; release date, etc. This information is not of any use for our application. The only thing we need is year. "
   ]
  },
  {
   "cell_type": "code",
   "execution_count": 6,
   "metadata": {},
   "outputs": [
    {
     "name": "stdout",
     "output_type": "stream",
     "text": [
      "['2014.xlsx', '2016.xlsx', '2022.xlsx', '2020.xlsx', '2019.xlsx', '2008.xlsx', '2023.xlsx', '2021.xlsx', '2001.xls', '2017.xlsx', '2011.xlsx', '2002.xls', '2015.xlsx', '2003.xlsx', '2013.xlsx', '2004.xlsx', '2018.xlsx', '2012.xlsx', '2024.xlsx', '2006.xlsx', '2025.xlsx', '2007.xls', '2005.xlsx', '2010.xlsx', '2009.xls']\n"
     ]
    }
   ],
   "source": [
    "# in the below method we will change the file names for our convinience to work with simplified data\n",
    "\n",
    "for file in os.listdir(\"Data/\"):\n",
    "    original = file\n",
    "    file, extention = file.split(\".\")\n",
    "    file = file.replace(\"_\",\"-\")\n",
    "    file = file.split(\"-\")\n",
    "    file = file[0].split()\n",
    "    file = file[0]\n",
    "    os.rename(\"Data/\"+original, \"Data/\"+file+\".\"+extention)\n",
    "    \n",
    "print(os.listdir(\"Data/\"))"
   ]
  }
 ],
 "metadata": {
  "kernelspec": {
   "display_name": "myenv",
   "language": "python",
   "name": "python3"
  },
  "language_info": {
   "codemirror_mode": {
    "name": "ipython",
    "version": 3
   },
   "file_extension": ".py",
   "mimetype": "text/x-python",
   "name": "python",
   "nbconvert_exporter": "python",
   "pygments_lexer": "ipython3",
   "version": "3.12.3"
  }
 },
 "nbformat": 4,
 "nbformat_minor": 2
}
