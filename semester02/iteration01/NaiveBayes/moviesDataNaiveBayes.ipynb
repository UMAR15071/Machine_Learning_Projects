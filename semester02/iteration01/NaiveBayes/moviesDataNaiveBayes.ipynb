{
 "cells": [
  {
   "cell_type": "markdown",
   "metadata": {},
   "source": [
    "# Classifying movie rating to Positive or Negative\n",
    " The following model will classify movie reviews as positive and negative using Naive Bayes Classifier. \n",
    " Data source: https://ai.stanford.edu/~amaas/data/sentiment/ "
   ]
  },
  {
   "cell_type": "code",
   "execution_count": 1,
   "metadata": {},
   "outputs": [],
   "source": [
    "import os\n",
    "import pandas as pd\n",
    "import random\n",
    "from sklearn.model_selection import train_test_split\n",
    "import matplotlib.pyplot as plt \n",
    "from sklearn.metrics import confusion_matrix, classification_report, accuracy_score\n",
    "import seaborn as sns"
   ]
  },
  {
   "cell_type": "code",
   "execution_count": 2,
   "metadata": {},
   "outputs": [],
   "source": [
    "def list_directories(folder_path, sentiment, start_id):\n",
    "    data = []\n",
    "    \n",
    "    for file in os.listdir(folder_path):\n",
    "        with open(os.path.join(folder_path, file), \"r\", encoding=\"utf-8\") as f:\n",
    "            review = f.read().strip()\n",
    "            rating = file.split('_')[1].split('.')[0]\n",
    "            data.append((start_id, rating, review, sentiment))\n",
    "            start_id += 1  # Increment unique ID\n",
    "    \n",
    "    return data, start_id"
   ]
  },
  {
   "cell_type": "code",
   "execution_count": 3,
   "metadata": {},
   "outputs": [
    {
     "name": "stdout",
     "output_type": "stream",
     "text": [
      "50000\n",
      "(12501, '10', 'I think this still is the best routine. There are some others, like Rock\\'s \"bring the pain\", and Allen\\'s \"Men are Pigs\" that are hilarious; \"Damon Waynes last stand\" is also funny in a tearful way - but this routine has no errors. All the jokes are funny, and the time limit of 70 minutes is perfect. Just long enough to last 20 years. I just love how he allows the audience to be totally themselves and unrestricted. I\\'m a fan of the classics and for a guy who watched a lot of of Jim Carrey growing up, watching a more laid back comic is pretty cool. Not putting in a category with Ellen and Newhart, but something you can watch if you\\'re bloated. Thanks Eddie, god bless.', 1)\n",
      "(5436, '4', 'Tierney\\'s an authentic tough guy, but this movie misfire from normally competent RKO undercuts his impact at every turn. The script is about as plausible as OJ Simpson at a Ten Cmmandments dinner. Just count the times Tierney\\'s incredible car companions swallow one lame excuse after another for his evasive and violent acts. The old cliché about it \"only happening in the movies\" applies here in spades. Then there\\'s the guy playing the watchman, who appears to have wandered in from a boozy WC Fields comedy, ruining the menacing mood in the process. The static one-room sets don\\'t help either, and neither does director Feist\\'s obvious lack of feel for the material. Then add a final car chase missing both imagination and pay-off, and the results are pretty flat. In fact the movie only picks up in the station-house scenes where hard-bitten cops discover the hidden powers of innocent-looking gas station attendants. Too bad that Tieney\\'s career never really gelled. I gather that was due largely to being as big a tough guy off-screen as on and getting in one sleazy scrape after another. His ice-cold manner and clarity of emotion remind me at times of Lee Marvin at his tough-guy best. Anyway this project might have worked as a radio play, but as a movie with a promising noir title, it\\'s a disappointment.', 0)\n"
     ]
    }
   ],
   "source": [
    "start_id = 0  # Initialize unique ID counter\n",
    "\n",
    "# Load data and update id counter after each call\n",
    "data, start_id = list_directories(\"aclImdb/train/neg/\", 0, start_id)\n",
    "new_data, start_id = list_directories(\"aclImdb/train/pos/\", 1, start_id)\n",
    "data.extend(new_data)\n",
    "\n",
    "new_data, start_id = list_directories(\"aclImdb/test/pos/\", 1, start_id)\n",
    "data.extend(new_data)\n",
    "\n",
    "new_data, start_id = list_directories(\"aclImdb/test/neg/\", 0, start_id)\n",
    "data.extend(new_data)\n",
    "\n",
    "# Output results\n",
    "print(len(data))  # Total number of reviews\n",
    "print(data[12501])  # Print the 12502th review (0-based index)\n",
    "random.shuffle(data)\n",
    "print(data[12501])  "
   ]
  },
  {
   "cell_type": "code",
   "execution_count": 4,
   "metadata": {},
   "outputs": [
    {
     "name": "stdout",
     "output_type": "stream",
     "text": [
      "CSV file 'movie_reviews.csv' saved successfully!\n"
     ]
    }
   ],
   "source": [
    "import csv\n",
    "csv_filename = \"movie_reviews.csv\"\n",
    "# Write data to CSV file\n",
    "with open(csv_filename, \"w\", newline=\"\", encoding=\"utf-8\") as file:\n",
    "    writer = csv.writer(file)\n",
    "    writer.writerow([\"id\", \"rating\", \"review\", \"sentiment\"])\n",
    "    writer.writerows(data)\n",
    "\n",
    "print(f\"CSV file '{csv_filename}' saved successfully!\")"
   ]
  },
  {
   "cell_type": "code",
   "execution_count": 5,
   "metadata": {},
   "outputs": [
    {
     "data": {
      "text/plain": [
       "<bound method NDFrame.head of           id  rating                                             review  \\\n",
       "0      40221       1  This film is absolutely appalling and awful. I...   \n",
       "1       8478       4  TYSON <br /><br />Aspect ratio: 1.33:1<br /><b...   \n",
       "2      16525      10  Will and Ted's Bodacious journey is an existen...   \n",
       "3       7481       4  This movie has a slew of great adult stars but...   \n",
       "4      48130       1  This movie is about a group of people who are ...   \n",
       "...      ...     ...                                                ...   \n",
       "49995  24086       8  When I saw this animation for first time (I wa...   \n",
       "49996  26551      10  \"Müllers Büro\" is a movie which many will watc...   \n",
       "49997  28302       9  Finally a true horror movie. This is the first...   \n",
       "49998  13064       7  Mardi Gras: Made in china is an excellent movi...   \n",
       "49999  38153       1  An obvious vanity press for Julie in her first...   \n",
       "\n",
       "       sentiment  \n",
       "0              0  \n",
       "1              0  \n",
       "2              1  \n",
       "3              0  \n",
       "4              0  \n",
       "...          ...  \n",
       "49995          1  \n",
       "49996          1  \n",
       "49997          1  \n",
       "49998          1  \n",
       "49999          0  \n",
       "\n",
       "[50000 rows x 4 columns]>"
      ]
     },
     "execution_count": 5,
     "metadata": {},
     "output_type": "execute_result"
    }
   ],
   "source": [
    "df = pd.read_csv(\"movie_reviews.csv\")\n",
    "df.head"
   ]
  },
  {
   "cell_type": "code",
   "execution_count": 6,
   "metadata": {},
   "outputs": [
    {
     "data": {
      "text/html": [
       "<div>\n",
       "<style scoped>\n",
       "    .dataframe tbody tr th:only-of-type {\n",
       "        vertical-align: middle;\n",
       "    }\n",
       "\n",
       "    .dataframe tbody tr th {\n",
       "        vertical-align: top;\n",
       "    }\n",
       "\n",
       "    .dataframe thead tr th {\n",
       "        text-align: left;\n",
       "    }\n",
       "\n",
       "    .dataframe thead tr:last-of-type th {\n",
       "        text-align: right;\n",
       "    }\n",
       "</style>\n",
       "<table border=\"1\" class=\"dataframe\">\n",
       "  <thead>\n",
       "    <tr>\n",
       "      <th></th>\n",
       "      <th colspan=\"8\" halign=\"left\">id</th>\n",
       "      <th colspan=\"8\" halign=\"left\">rating</th>\n",
       "    </tr>\n",
       "    <tr>\n",
       "      <th></th>\n",
       "      <th>count</th>\n",
       "      <th>mean</th>\n",
       "      <th>std</th>\n",
       "      <th>min</th>\n",
       "      <th>25%</th>\n",
       "      <th>50%</th>\n",
       "      <th>75%</th>\n",
       "      <th>max</th>\n",
       "      <th>count</th>\n",
       "      <th>mean</th>\n",
       "      <th>std</th>\n",
       "      <th>min</th>\n",
       "      <th>25%</th>\n",
       "      <th>50%</th>\n",
       "      <th>75%</th>\n",
       "      <th>max</th>\n",
       "    </tr>\n",
       "    <tr>\n",
       "      <th>sentiment</th>\n",
       "      <th></th>\n",
       "      <th></th>\n",
       "      <th></th>\n",
       "      <th></th>\n",
       "      <th></th>\n",
       "      <th></th>\n",
       "      <th></th>\n",
       "      <th></th>\n",
       "      <th></th>\n",
       "      <th></th>\n",
       "      <th></th>\n",
       "      <th></th>\n",
       "      <th></th>\n",
       "      <th></th>\n",
       "      <th></th>\n",
       "      <th></th>\n",
       "    </tr>\n",
       "  </thead>\n",
       "  <tbody>\n",
       "    <tr>\n",
       "      <th>0</th>\n",
       "      <td>25000.0</td>\n",
       "      <td>24999.5</td>\n",
       "      <td>19094.447286</td>\n",
       "      <td>0.0</td>\n",
       "      <td>6249.75</td>\n",
       "      <td>24999.5</td>\n",
       "      <td>43749.25</td>\n",
       "      <td>49999.0</td>\n",
       "      <td>25000.0</td>\n",
       "      <td>2.22004</td>\n",
       "      <td>1.186558</td>\n",
       "      <td>1.0</td>\n",
       "      <td>1.0</td>\n",
       "      <td>2.0</td>\n",
       "      <td>3.0</td>\n",
       "      <td>4.0</td>\n",
       "    </tr>\n",
       "    <tr>\n",
       "      <th>1</th>\n",
       "      <td>25000.0</td>\n",
       "      <td>24999.5</td>\n",
       "      <td>7217.022701</td>\n",
       "      <td>12500.0</td>\n",
       "      <td>18749.75</td>\n",
       "      <td>24999.5</td>\n",
       "      <td>31249.25</td>\n",
       "      <td>37499.0</td>\n",
       "      <td>25000.0</td>\n",
       "      <td>8.77064</td>\n",
       "      <td>1.157380</td>\n",
       "      <td>7.0</td>\n",
       "      <td>8.0</td>\n",
       "      <td>9.0</td>\n",
       "      <td>10.0</td>\n",
       "      <td>10.0</td>\n",
       "    </tr>\n",
       "  </tbody>\n",
       "</table>\n",
       "</div>"
      ],
      "text/plain": [
       "                id                                                     \\\n",
       "             count     mean           std      min       25%      50%   \n",
       "sentiment                                                               \n",
       "0          25000.0  24999.5  19094.447286      0.0   6249.75  24999.5   \n",
       "1          25000.0  24999.5   7217.022701  12500.0  18749.75  24999.5   \n",
       "\n",
       "                               rating                                          \\\n",
       "                75%      max    count     mean       std  min  25%  50%   75%   \n",
       "sentiment                                                                       \n",
       "0          43749.25  49999.0  25000.0  2.22004  1.186558  1.0  1.0  2.0   3.0   \n",
       "1          31249.25  37499.0  25000.0  8.77064  1.157380  7.0  8.0  9.0  10.0   \n",
       "\n",
       "                 \n",
       "            max  \n",
       "sentiment        \n",
       "0           4.0  \n",
       "1          10.0  "
      ]
     },
     "execution_count": 6,
     "metadata": {},
     "output_type": "execute_result"
    }
   ],
   "source": [
    "df.groupby('sentiment').describe()"
   ]
  },
  {
   "cell_type": "code",
   "execution_count": 7,
   "metadata": {},
   "outputs": [
    {
     "data": {
      "text/plain": [
       "<bound method NDFrame.head of           id  rating                                             review  \\\n",
       "0      40221       1  this film is absolutely appalling and awful. i...   \n",
       "1       8478       4  tyson <br /><br />aspect ratio: 1.33:1<br /><b...   \n",
       "2      16525      10  will and ted's bodacious journey is an existen...   \n",
       "3       7481       4  this movie has a slew of great adult stars but...   \n",
       "4      48130       1  this movie is about a group of people who are ...   \n",
       "...      ...     ...                                                ...   \n",
       "49995  24086       8  when i saw this animation for first time (i wa...   \n",
       "49996  26551      10  \"müllers büro\" is a movie which many will watc...   \n",
       "49997  28302       9  finally a true horror movie. this is the first...   \n",
       "49998  13064       7  mardi gras: made in china is an excellent movi...   \n",
       "49999  38153       1  an obvious vanity press for julie in her first...   \n",
       "\n",
       "       sentiment  \n",
       "0              0  \n",
       "1              0  \n",
       "2              1  \n",
       "3              0  \n",
       "4              0  \n",
       "...          ...  \n",
       "49995          1  \n",
       "49996          1  \n",
       "49997          1  \n",
       "49998          1  \n",
       "49999          0  \n",
       "\n",
       "[50000 rows x 4 columns]>"
      ]
     },
     "execution_count": 7,
     "metadata": {},
     "output_type": "execute_result"
    }
   ],
   "source": [
    "df[\"review\"] = df[\"review\"].str.lower()\n",
    "df.head"
   ]
  },
  {
   "cell_type": "code",
   "execution_count": 8,
   "metadata": {},
   "outputs": [
    {
     "name": "stdout",
     "output_type": "stream",
     "text": [
      "Data successfully split and saved!\n"
     ]
    }
   ],
   "source": [
    "X = df[\"review\"]\n",
    "y = df[\"sentiment\"]\n",
    "X_train, X_test, y_train, y_test = train_test_split(X, y, test_size=0.2, random_state=42, stratify=y)\n",
    "train_df = pd.DataFrame({\"review\": X_train, \"sentiment\": y_train})\n",
    "test_df = pd.DataFrame({\"review\": X_test, \"sentiment\": y_test})\n",
    "train_df.to_csv(\"train_split.csv\", index=False)\n",
    "test_df.to_csv(\"test_split.csv\", index=False)\n",
    "\n",
    "print(\"Data successfully split and saved!\")\n"
   ]
  },
  {
   "cell_type": "code",
   "execution_count": 9,
   "metadata": {},
   "outputs": [
    {
     "name": "stdout",
     "output_type": "stream",
     "text": [
      "(40000, 93145)\n"
     ]
    }
   ],
   "source": [
    "from sklearn.feature_extraction.text import CountVectorizer\n",
    "import pandas as pd\n",
    "df = pd.read_csv(\"train_split.csv\")\n",
    "vectorizer = CountVectorizer()\n",
    "X_train = vectorizer.fit_transform(df[\"review\"])\n",
    "print(X_train.shape)  \n"
   ]
  },
  {
   "cell_type": "code",
   "execution_count": 10,
   "metadata": {},
   "outputs": [],
   "source": [
    "df_test = pd.read_csv(\"test_split.csv\")\n",
    "X_test = vectorizer.transform(df_test[\"review\"])"
   ]
  },
  {
   "cell_type": "code",
   "execution_count": 11,
   "metadata": {},
   "outputs": [
    {
     "name": "stdout",
     "output_type": "stream",
     "text": [
      "Model Accuracy: 0.85\n"
     ]
    }
   ],
   "source": [
    "from sklearn.naive_bayes import MultinomialNB\n",
    "from sklearn.metrics import accuracy_score\n",
    "\n",
    "y_train = df[\"sentiment\"]\n",
    "y_test = df_test[\"sentiment\"]\n",
    "nb_classifier = MultinomialNB()\n",
    "nb_classifier.fit(X_train, y_train)\n",
    "y_pred = nb_classifier.predict(X_test)\n",
    "accuracy = accuracy_score(y_test, y_pred)\n",
    "print(f\"Model Accuracy: {accuracy:.2f}\")"
   ]
  },
  {
   "cell_type": "code",
   "execution_count": 12,
   "metadata": {},
   "outputs": [
    {
     "name": "stdout",
     "output_type": "stream",
     "text": [
      "              precision    recall  f1-score   support\n",
      "\n",
      "           0       0.83      0.88      0.86      5000\n",
      "           1       0.87      0.82      0.85      5000\n",
      "\n",
      "    accuracy                           0.85     10000\n",
      "   macro avg       0.85      0.85      0.85     10000\n",
      "weighted avg       0.85      0.85      0.85     10000\n",
      "\n"
     ]
    }
   ],
   "source": [
    "from sklearn.metrics import classification_report\n",
    "\n",
    "print(classification_report(y_test, y_pred))"
   ]
  },
  {
   "cell_type": "code",
   "execution_count": 18,
   "metadata": {},
   "outputs": [
    {
     "data": {
      "image/png": "[encoded data removed]",
      "text/plain": [
       "<Figure size 600x400 with 2 Axes>"
      ]
     },
     "metadata": {},
     "output_type": "display_data"
    }
   ],
   "source": [
    "# Generate confusion matrix\n",
    "cm = confusion_matrix(y_test, y_pred)\n",
    "\n",
    "# Plot Confusion Matrix\n",
    "plt.figure(figsize=(6,4))\n",
    "sns.heatmap(cm, annot=True, fmt=\"d\", cmap=\"Blues\", xticklabels=[\"Negative\", \"Positive\"], yticklabels=[\"Negative\", \"Positive\"])\n",
    "plt.xlabel(\"Predicted Label\")\n",
    "plt.ylabel(\"True Label\")\n",
    "plt.title(\"Confusion Matrix for IMDb Sentiment Analysis (count vactorizer)\")\n",
    "plt.show()"
   ]
  },
  {
   "cell_type": "code",
   "execution_count": 13,
   "metadata": {},
   "outputs": [
    {
     "name": "stdout",
     "output_type": "stream",
     "text": [
      "(40000, 10000)\n"
     ]
    }
   ],
   "source": [
    "from sklearn.feature_extraction.text import TfidfVectorizer\n",
    "vectorizer = TfidfVectorizer(max_features=10000)  \n",
    "X_train = vectorizer.fit_transform(df[\"review\"])\n",
    "print(X_train.shape)"
   ]
  },
  {
   "cell_type": "code",
   "execution_count": 14,
   "metadata": {},
   "outputs": [],
   "source": [
    "df_test = pd.read_csv(\"test_split.csv\")\n",
    "X_test = vectorizer.transform(df_test[\"review\"])"
   ]
  },
  {
   "cell_type": "code",
   "execution_count": 15,
   "metadata": {},
   "outputs": [
    {
     "name": "stdout",
     "output_type": "stream",
     "text": [
      "Model Accuracy: 0.86\n"
     ]
    }
   ],
   "source": [
    "from sklearn.naive_bayes import MultinomialNB\n",
    "from sklearn.metrics import accuracy_score\n",
    "y_train = df[\"sentiment\"]\n",
    "y_test = df_test[\"sentiment\"]\n",
    "nb_classifier = MultinomialNB()\n",
    "nb_classifier.fit(X_train, y_train)\n",
    "y_pred = nb_classifier.predict(X_test)\n",
    "accuracy = accuracy_score(y_test, y_pred)\n",
    "print(f\"Model Accuracy: {accuracy:.2f}\")"
   ]
  },
  {
   "cell_type": "code",
   "execution_count": 16,
   "metadata": {},
   "outputs": [
    {
     "name": "stdout",
     "output_type": "stream",
     "text": [
      "              precision    recall  f1-score   support\n",
      "\n",
      "           0       0.86      0.86      0.86      5000\n",
      "           1       0.86      0.85      0.86      5000\n",
      "\n",
      "    accuracy                           0.86     10000\n",
      "   macro avg       0.86      0.86      0.86     10000\n",
      "weighted avg       0.86      0.86      0.86     10000\n",
      "\n"
     ]
    }
   ],
   "source": [
    "from sklearn.metrics import classification_report\n",
    "\n",
    "print(classification_report(y_test, y_pred))"
   ]
  },
  {
   "cell_type": "code",
   "execution_count": 19,
   "metadata": {},
   "outputs": [
    {
     "data": {
      "image/png": "[encoded data removed]",
      "text/plain": [
       "<Figure size 600x400 with 2 Axes>"
      ]
     },
     "metadata": {},
     "output_type": "display_data"
    }
   ],
   "source": [
    "# Generate confusion matrix\n",
    "cm = confusion_matrix(y_test, y_pred)\n",
    "\n",
    "# Plot Confusion Matrix\n",
    "plt.figure(figsize=(6,4))\n",
    "sns.heatmap(cm, annot=True, fmt=\"d\", cmap=\"Blues\", xticklabels=[\"Negative\", \"Positive\"], yticklabels=[\"Negative\", \"Positive\"])\n",
    "plt.xlabel(\"Predicted Label\")\n",
    "plt.ylabel(\"True Label\")\n",
    "plt.title(\"Confusion Matrix for IMDb Sentiment Analysis (tfid vectorizer)\")\n",
    "plt.show()\n"
   ]
  },
  {
   "cell_type": "code",
   "execution_count": null,
   "metadata": {},
   "outputs": [],
   "source": []
  }
 ],
 "metadata": {
  "kernelspec": {
   "display_name": "Python (yourenv)",
   "language": "python",
   "name": "yourenv"
  },
  "language_info": {
   "codemirror_mode": {
    "name": "ipython",
    "version": 3
   },
   "file_extension": ".py",
   "mimetype": "text/x-python",
   "name": "python",
   "nbconvert_exporter": "python",
   "pygments_lexer": "ipython3",
   "version": "3.12.3"
  }
 },
 "nbformat": 4,
 "nbformat_minor": 2
}
