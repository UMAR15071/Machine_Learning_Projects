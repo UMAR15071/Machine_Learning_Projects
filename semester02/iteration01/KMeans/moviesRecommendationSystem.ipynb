{
 "cells": [
  {
   "cell_type": "markdown",
   "metadata": {},
   "source": [
    "# Movies Recommendation System\n",
    "First attempt to create a recommendation system using a fairly large dataset but due to less computing power changed the dataset to smaller version."
   ]
  },
  {
   "cell_type": "code",
   "execution_count": 1,
   "metadata": {},
   "outputs": [],
   "source": [
    "import pandas as pd "
   ]
  },
  {
   "cell_type": "code",
   "execution_count": 2,
   "metadata": {},
   "outputs": [
    {
     "data": {
      "text/plain": [
       "<bound method NDFrame.head of        movieId                                              title  \\\n",
       "0            1                                   Toy Story (1995)   \n",
       "1            2                                     Jumanji (1995)   \n",
       "2            3                            Grumpier Old Men (1995)   \n",
       "3            4                           Waiting to Exhale (1995)   \n",
       "4            5                 Father of the Bride Part II (1995)   \n",
       "...        ...                                                ...   \n",
       "86532   288967               State of Siege: Temple Attack (2021)   \n",
       "86533   288971                                 Ouija Japan (2021)   \n",
       "86534   288975   The Men Who Made the Movies: Howard Hawks (1973)   \n",
       "86535   288977                    Skinford: Death Sentence (2023)   \n",
       "86536   288983  UNZIPPED: An Autopsy of American Inequality (2...   \n",
       "\n",
       "                                            genres  \n",
       "0      Adventure|Animation|Children|Comedy|Fantasy  \n",
       "1                       Adventure|Children|Fantasy  \n",
       "2                                   Comedy|Romance  \n",
       "3                             Comedy|Drama|Romance  \n",
       "4                                           Comedy  \n",
       "...                                            ...  \n",
       "86532                                 Action|Drama  \n",
       "86533                                Action|Horror  \n",
       "86534                                  Documentary  \n",
       "86535                               Crime|Thriller  \n",
       "86536                                  Documentary  \n",
       "\n",
       "[86537 rows x 3 columns]>"
      ]
     },
     "execution_count": 2,
     "metadata": {},
     "output_type": "execute_result"
    }
   ],
   "source": [
    "movies = pd.read_csv(\"ml-latest/movies.csv\")\n",
    "movies.head"
   ]
  },
  {
   "cell_type": "code",
   "execution_count": 3,
   "metadata": {},
   "outputs": [
    {
     "data": {
      "text/plain": [
       "<bound method NDFrame.head of           userId  movieId  rating   timestamp\n",
       "0              1        1     4.0  1225734739\n",
       "1              1      110     4.0  1225865086\n",
       "2              1      158     4.0  1225733503\n",
       "3              1      260     4.5  1225735204\n",
       "4              1      356     5.0  1225735119\n",
       "...          ...      ...     ...         ...\n",
       "33832157  330975     8340     2.0  1091583256\n",
       "33832158  330975     8493     2.5  1091585709\n",
       "33832159  330975     8622     4.0  1091581777\n",
       "33832160  330975     8665     3.0  1091581765\n",
       "33832161  330975     8783     2.5  1091581799\n",
       "\n",
       "[33832162 rows x 4 columns]>"
      ]
     },
     "execution_count": 3,
     "metadata": {},
     "output_type": "execute_result"
    }
   ],
   "source": [
    "ratings = pd.read_csv(\"ml-latest/ratings.csv\")\n",
    "ratings.head"
   ]
  },
  {
   "cell_type": "code",
   "execution_count": 4,
   "metadata": {},
   "outputs": [
    {
     "data": {
      "text/plain": [
       "(86537, 3)"
      ]
     },
     "execution_count": 4,
     "metadata": {},
     "output_type": "execute_result"
    }
   ],
   "source": [
    "movies.shape"
   ]
  },
  {
   "cell_type": "code",
   "execution_count": 5,
   "metadata": {},
   "outputs": [
    {
     "data": {
      "text/plain": [
       "(33832162, 4)"
      ]
     },
     "execution_count": 5,
     "metadata": {},
     "output_type": "execute_result"
    }
   ],
   "source": [
    "ratings.shape"
   ]
  },
  {
   "cell_type": "code",
   "execution_count": 6,
   "metadata": {},
   "outputs": [
    {
     "name": "stdout",
     "output_type": "stream",
     "text": [
      "movieId    0\n",
      "title      0\n",
      "genres     0\n",
      "dtype: int64\n"
     ]
    }
   ],
   "source": [
    "print(movies.isnull().sum())   # Check null values in movies.csv"
   ]
  },
  {
   "cell_type": "code",
   "execution_count": 7,
   "metadata": {},
   "outputs": [
    {
     "name": "stdout",
     "output_type": "stream",
     "text": [
      "userId       0\n",
      "movieId      0\n",
      "rating       0\n",
      "timestamp    0\n",
      "dtype: int64\n"
     ]
    }
   ],
   "source": [
    "print(ratings.isnull().sum())  # Check null values in ratings.csv"
   ]
  },
  {
   "cell_type": "code",
   "execution_count": 8,
   "metadata": {},
   "outputs": [
    {
     "data": {
      "text/plain": [
       "<bound method NDFrame.head of           userId  movieId  rating   timestamp  \\\n",
       "0              1        1     4.0  1225734739   \n",
       "1              1      110     4.0  1225865086   \n",
       "2              1      158     4.0  1225733503   \n",
       "3              1      260     4.5  1225735204   \n",
       "4              1      356     5.0  1225735119   \n",
       "...          ...      ...     ...         ...   \n",
       "33832157  330975     8340     2.0  1091583256   \n",
       "33832158  330975     8493     2.5  1091585709   \n",
       "33832159  330975     8622     4.0  1091581777   \n",
       "33832160  330975     8665     3.0  1091581765   \n",
       "33832161  330975     8783     2.5  1091581799   \n",
       "\n",
       "                                              title  \\\n",
       "0                                  Toy Story (1995)   \n",
       "1                                 Braveheart (1995)   \n",
       "2                                     Casper (1995)   \n",
       "3         Star Wars: Episode IV - A New Hope (1977)   \n",
       "4                               Forrest Gump (1994)   \n",
       "...                                             ...   \n",
       "33832157                Escape from Alcatraz (1979)   \n",
       "33832158                       Memphis Belle (1990)   \n",
       "33832159                     Fahrenheit 9/11 (2004)   \n",
       "33832160               Bourne Supremacy, The (2004)   \n",
       "33832161                        Village, The (2004)   \n",
       "\n",
       "                                               genres  \n",
       "0         Adventure|Animation|Children|Comedy|Fantasy  \n",
       "1                                    Action|Drama|War  \n",
       "2                                  Adventure|Children  \n",
       "3                             Action|Adventure|Sci-Fi  \n",
       "4                            Comedy|Drama|Romance|War  \n",
       "...                                               ...  \n",
       "33832157                               Drama|Thriller  \n",
       "33832158                             Action|Drama|War  \n",
       "33832159                                  Documentary  \n",
       "33832160                        Action|Crime|Thriller  \n",
       "33832161                       Drama|Mystery|Thriller  \n",
       "\n",
       "[33832162 rows x 6 columns]>"
      ]
     },
     "execution_count": 8,
     "metadata": {},
     "output_type": "execute_result"
    }
   ],
   "source": [
    "df = ratings.merge(movies, on=\"movieId\", how=\"inner\")\n",
    "df.head"
   ]
  },
  {
   "cell_type": "code",
   "execution_count": 9,
   "metadata": {},
   "outputs": [
    {
     "data": {
      "text/plain": [
       "<bound method NDFrame.head of           userId  movieId  rating                                      title  \\\n",
       "0              1        1     4.0                           Toy Story (1995)   \n",
       "1              1      110     4.0                          Braveheart (1995)   \n",
       "2              1      158     4.0                              Casper (1995)   \n",
       "3              1      260     4.5  Star Wars: Episode IV - A New Hope (1977)   \n",
       "4              1      356     5.0                        Forrest Gump (1994)   \n",
       "...          ...      ...     ...                                        ...   \n",
       "33832157  330975     8340     2.0                Escape from Alcatraz (1979)   \n",
       "33832158  330975     8493     2.5                       Memphis Belle (1990)   \n",
       "33832159  330975     8622     4.0                     Fahrenheit 9/11 (2004)   \n",
       "33832160  330975     8665     3.0               Bourne Supremacy, The (2004)   \n",
       "33832161  330975     8783     2.5                        Village, The (2004)   \n",
       "\n",
       "                                               genres  \n",
       "0         Adventure|Animation|Children|Comedy|Fantasy  \n",
       "1                                    Action|Drama|War  \n",
       "2                                  Adventure|Children  \n",
       "3                             Action|Adventure|Sci-Fi  \n",
       "4                            Comedy|Drama|Romance|War  \n",
       "...                                               ...  \n",
       "33832157                               Drama|Thriller  \n",
       "33832158                             Action|Drama|War  \n",
       "33832159                                  Documentary  \n",
       "33832160                        Action|Crime|Thriller  \n",
       "33832161                       Drama|Mystery|Thriller  \n",
       "\n",
       "[33832162 rows x 5 columns]>"
      ]
     },
     "execution_count": 9,
     "metadata": {},
     "output_type": "execute_result"
    }
   ],
   "source": [
    "df = df.drop(columns=[\"timestamp\"])\n",
    "df.head"
   ]
  },
  {
   "cell_type": "code",
   "execution_count": null,
   "metadata": {},
   "outputs": [],
   "source": [
    "chunk_size = 10000  # Adjust based on memory\n",
    "df_chunks = [df[i:i + chunk_size] for i in range(0, df.shape[0], chunk_size)]\n",
    "\n",
    "df_encoded_chunks = []\n",
    "for chunk in df_chunks:\n",
    "    df_genres = chunk['genres'].str.get_dummies('|')\n",
    "    chunk = pd.concat([chunk, df_genres], axis=1)\n",
    "    chunk.drop(columns=['genres'], inplace=True)\n",
    "    df_encoded_chunks.append(chunk)\n",
    "\n",
    "df = pd.concat(df_encoded_chunks, ignore_index=True)\n"
   ]
  },
  {
   "cell_type": "code",
   "execution_count": null,
   "metadata": {},
   "outputs": [],
   "source": []
  }
 ],
 "metadata": {
  "kernelspec": {
   "display_name": "myenv",
   "language": "python",
   "name": "python3"
  },
  "language_info": {
   "codemirror_mode": {
    "name": "ipython",
    "version": 3
   },
   "file_extension": ".py",
   "mimetype": "text/x-python",
   "name": "python",
   "nbconvert_exporter": "python",
   "pygments_lexer": "ipython3",
   "version": "3.12.3"
  }
 },
 "nbformat": 4,
 "nbformat_minor": 2
}
