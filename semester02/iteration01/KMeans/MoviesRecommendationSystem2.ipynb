{
 "cells": [
  {
   "cell_type": "code",
   "execution_count": 1,
   "metadata": {},
   "outputs": [],
   "source": [
    "import pandas as pd "
   ]
  },
  {
   "cell_type": "code",
   "execution_count": 3,
   "metadata": {},
   "outputs": [],
   "source": [
    "movies = pd.read_csv(\"ml-latest-small/movies.csv\")\n",
    "ratings = pd.read_csv(\"ml-latest-small/ratings.csv\")"
   ]
  },
  {
   "cell_type": "code",
   "execution_count": 4,
   "metadata": {},
   "outputs": [
    {
     "data": {
      "text/plain": [
       "<bound method NDFrame.head of       movieId                                      title  \\\n",
       "0           1                           Toy Story (1995)   \n",
       "1           2                             Jumanji (1995)   \n",
       "2           3                    Grumpier Old Men (1995)   \n",
       "3           4                   Waiting to Exhale (1995)   \n",
       "4           5         Father of the Bride Part II (1995)   \n",
       "...       ...                                        ...   \n",
       "9737   193581  Black Butler: Book of the Atlantic (2017)   \n",
       "9738   193583               No Game No Life: Zero (2017)   \n",
       "9739   193585                               Flint (2017)   \n",
       "9740   193587        Bungo Stray Dogs: Dead Apple (2018)   \n",
       "9741   193609        Andrew Dice Clay: Dice Rules (1991)   \n",
       "\n",
       "                                           genres  \n",
       "0     Adventure|Animation|Children|Comedy|Fantasy  \n",
       "1                      Adventure|Children|Fantasy  \n",
       "2                                  Comedy|Romance  \n",
       "3                            Comedy|Drama|Romance  \n",
       "4                                          Comedy  \n",
       "...                                           ...  \n",
       "9737              Action|Animation|Comedy|Fantasy  \n",
       "9738                     Animation|Comedy|Fantasy  \n",
       "9739                                        Drama  \n",
       "9740                             Action|Animation  \n",
       "9741                                       Comedy  \n",
       "\n",
       "[9742 rows x 3 columns]>"
      ]
     },
     "execution_count": 4,
     "metadata": {},
     "output_type": "execute_result"
    }
   ],
   "source": [
    "movies.head"
   ]
  },
  {
   "cell_type": "code",
   "execution_count": 5,
   "metadata": {},
   "outputs": [
    {
     "data": {
      "text/plain": [
       "<bound method NDFrame.head of         userId  movieId  rating   timestamp\n",
       "0            1        1     4.0   964982703\n",
       "1            1        3     4.0   964981247\n",
       "2            1        6     4.0   964982224\n",
       "3            1       47     5.0   964983815\n",
       "4            1       50     5.0   964982931\n",
       "...        ...      ...     ...         ...\n",
       "100831     610   166534     4.0  1493848402\n",
       "100832     610   168248     5.0  1493850091\n",
       "100833     610   168250     5.0  1494273047\n",
       "100834     610   168252     5.0  1493846352\n",
       "100835     610   170875     3.0  1493846415\n",
       "\n",
       "[100836 rows x 4 columns]>"
      ]
     },
     "execution_count": 5,
     "metadata": {},
     "output_type": "execute_result"
    }
   ],
   "source": [
    "ratings.head"
   ]
  },
  {
   "cell_type": "code",
   "execution_count": 6,
   "metadata": {},
   "outputs": [
    {
     "data": {
      "text/plain": [
       "<bound method NDFrame.head of         userId  movieId  rating   timestamp                           title  \\\n",
       "0            1        1     4.0   964982703                Toy Story (1995)   \n",
       "1            1        3     4.0   964981247         Grumpier Old Men (1995)   \n",
       "2            1        6     4.0   964982224                     Heat (1995)   \n",
       "3            1       47     5.0   964983815     Seven (a.k.a. Se7en) (1995)   \n",
       "4            1       50     5.0   964982931      Usual Suspects, The (1995)   \n",
       "...        ...      ...     ...         ...                             ...   \n",
       "100831     610   166534     4.0  1493848402                    Split (2017)   \n",
       "100832     610   168248     5.0  1493850091   John Wick: Chapter Two (2017)   \n",
       "100833     610   168250     5.0  1494273047                  Get Out (2017)   \n",
       "100834     610   168252     5.0  1493846352                    Logan (2017)   \n",
       "100835     610   170875     3.0  1493846415  The Fate of the Furious (2017)   \n",
       "\n",
       "                                             genres  \n",
       "0       Adventure|Animation|Children|Comedy|Fantasy  \n",
       "1                                    Comedy|Romance  \n",
       "2                             Action|Crime|Thriller  \n",
       "3                                  Mystery|Thriller  \n",
       "4                            Crime|Mystery|Thriller  \n",
       "...                                             ...  \n",
       "100831                        Drama|Horror|Thriller  \n",
       "100832                        Action|Crime|Thriller  \n",
       "100833                                       Horror  \n",
       "100834                                Action|Sci-Fi  \n",
       "100835                  Action|Crime|Drama|Thriller  \n",
       "\n",
       "[100836 rows x 6 columns]>"
      ]
     },
     "execution_count": 6,
     "metadata": {},
     "output_type": "execute_result"
    }
   ],
   "source": [
    "df = ratings.merge(movies, on=\"movieId\", how=\"inner\")\n",
    "df.head"
   ]
  },
  {
   "cell_type": "code",
   "execution_count": 7,
   "metadata": {},
   "outputs": [
    {
     "data": {
      "text/plain": [
       "<bound method NDFrame.head of         userId  movieId  rating                           title  \\\n",
       "0            1        1     4.0                Toy Story (1995)   \n",
       "1            1        3     4.0         Grumpier Old Men (1995)   \n",
       "2            1        6     4.0                     Heat (1995)   \n",
       "3            1       47     5.0     Seven (a.k.a. Se7en) (1995)   \n",
       "4            1       50     5.0      Usual Suspects, The (1995)   \n",
       "...        ...      ...     ...                             ...   \n",
       "100831     610   166534     4.0                    Split (2017)   \n",
       "100832     610   168248     5.0   John Wick: Chapter Two (2017)   \n",
       "100833     610   168250     5.0                  Get Out (2017)   \n",
       "100834     610   168252     5.0                    Logan (2017)   \n",
       "100835     610   170875     3.0  The Fate of the Furious (2017)   \n",
       "\n",
       "                                             genres  \n",
       "0       Adventure|Animation|Children|Comedy|Fantasy  \n",
       "1                                    Comedy|Romance  \n",
       "2                             Action|Crime|Thriller  \n",
       "3                                  Mystery|Thriller  \n",
       "4                            Crime|Mystery|Thriller  \n",
       "...                                             ...  \n",
       "100831                        Drama|Horror|Thriller  \n",
       "100832                        Action|Crime|Thriller  \n",
       "100833                                       Horror  \n",
       "100834                                Action|Sci-Fi  \n",
       "100835                  Action|Crime|Drama|Thriller  \n",
       "\n",
       "[100836 rows x 5 columns]>"
      ]
     },
     "execution_count": 7,
     "metadata": {},
     "output_type": "execute_result"
    }
   ],
   "source": [
    "df = df.drop(columns=[\"timestamp\"])\n",
    "df.head"
   ]
  },
  {
   "cell_type": "code",
   "execution_count": 8,
   "metadata": {},
   "outputs": [],
   "source": [
    "df_genres = df['genres'].str.get_dummies('|')  # Splitting genres and creating binary columns\n",
    "df = pd.concat([df, df_genres], axis=1)  # Merging with the original DataFrame\n",
    "df.drop(columns=['genres'], inplace=True)  # Dropping original 'genres' column"
   ]
  },
  {
   "cell_type": "code",
   "execution_count": 9,
   "metadata": {},
   "outputs": [
    {
     "data": {
      "text/plain": [
       "<bound method NDFrame.head of         userId  movieId  rating                           title  \\\n",
       "0            1        1     4.0                Toy Story (1995)   \n",
       "1            1        3     4.0         Grumpier Old Men (1995)   \n",
       "2            1        6     4.0                     Heat (1995)   \n",
       "3            1       47     5.0     Seven (a.k.a. Se7en) (1995)   \n",
       "4            1       50     5.0      Usual Suspects, The (1995)   \n",
       "...        ...      ...     ...                             ...   \n",
       "100831     610   166534     4.0                    Split (2017)   \n",
       "100832     610   168248     5.0   John Wick: Chapter Two (2017)   \n",
       "100833     610   168250     5.0                  Get Out (2017)   \n",
       "100834     610   168252     5.0                    Logan (2017)   \n",
       "100835     610   170875     3.0  The Fate of the Furious (2017)   \n",
       "\n",
       "        (no genres listed)  Action  Adventure  Animation  Children  Comedy  \\\n",
       "0                        0       0          1          1         1       1   \n",
       "1                        0       0          0          0         0       1   \n",
       "2                        0       1          0          0         0       0   \n",
       "3                        0       0          0          0         0       0   \n",
       "4                        0       0          0          0         0       0   \n",
       "...                    ...     ...        ...        ...       ...     ...   \n",
       "100831                   0       0          0          0         0       0   \n",
       "100832                   0       1          0          0         0       0   \n",
       "100833                   0       0          0          0         0       0   \n",
       "100834                   0       1          0          0         0       0   \n",
       "100835                   0       1          0          0         0       0   \n",
       "\n",
       "        ...  Film-Noir  Horror  IMAX  Musical  Mystery  Romance  Sci-Fi  \\\n",
       "0       ...          0       0     0        0        0        0       0   \n",
       "1       ...          0       0     0        0        0        1       0   \n",
       "2       ...          0       0     0        0        0        0       0   \n",
       "3       ...          0       0     0        0        1        0       0   \n",
       "4       ...          0       0     0        0        1        0       0   \n",
       "...     ...        ...     ...   ...      ...      ...      ...     ...   \n",
       "100831  ...          0       1     0        0        0        0       0   \n",
       "100832  ...          0       0     0        0        0        0       0   \n",
       "100833  ...          0       1     0        0        0        0       0   \n",
       "100834  ...          0       0     0        0        0        0       1   \n",
       "100835  ...          0       0     0        0        0        0       0   \n",
       "\n",
       "        Thriller  War  Western  \n",
       "0              0    0        0  \n",
       "1              0    0        0  \n",
       "2              1    0        0  \n",
       "3              1    0        0  \n",
       "4              1    0        0  \n",
       "...          ...  ...      ...  \n",
       "100831         1    0        0  \n",
       "100832         1    0        0  \n",
       "100833         0    0        0  \n",
       "100834         0    0        0  \n",
       "100835         1    0        0  \n",
       "\n",
       "[100836 rows x 24 columns]>"
      ]
     },
     "execution_count": 9,
     "metadata": {},
     "output_type": "execute_result"
    }
   ],
   "source": [
    "df.head"
   ]
  },
  {
   "cell_type": "code",
   "execution_count": 11,
   "metadata": {},
   "outputs": [
    {
     "data": {
      "text/plain": [
       "<bound method NDFrame.head of         userId  movieId  rating  (no genres listed)  Action  Adventure  \\\n",
       "0            1        1     4.0                   0       0          1   \n",
       "1            1        3     4.0                   0       0          0   \n",
       "2            1        6     4.0                   0       1          0   \n",
       "3            1       47     5.0                   0       0          0   \n",
       "4            1       50     5.0                   0       0          0   \n",
       "...        ...      ...     ...                 ...     ...        ...   \n",
       "100831     610   166534     4.0                   0       0          0   \n",
       "100832     610   168248     5.0                   0       1          0   \n",
       "100833     610   168250     5.0                   0       0          0   \n",
       "100834     610   168252     5.0                   0       1          0   \n",
       "100835     610   170875     3.0                   0       1          0   \n",
       "\n",
       "        Animation  Children  Comedy  Crime  ...  Film-Noir  Horror  IMAX  \\\n",
       "0               1         1       1      0  ...          0       0     0   \n",
       "1               0         0       1      0  ...          0       0     0   \n",
       "2               0         0       0      1  ...          0       0     0   \n",
       "3               0         0       0      0  ...          0       0     0   \n",
       "4               0         0       0      1  ...          0       0     0   \n",
       "...           ...       ...     ...    ...  ...        ...     ...   ...   \n",
       "100831          0         0       0      0  ...          0       1     0   \n",
       "100832          0         0       0      1  ...          0       0     0   \n",
       "100833          0         0       0      0  ...          0       1     0   \n",
       "100834          0         0       0      0  ...          0       0     0   \n",
       "100835          0         0       0      1  ...          0       0     0   \n",
       "\n",
       "        Musical  Mystery  Romance  Sci-Fi  Thriller  War  Western  \n",
       "0             0        0        0       0         0    0        0  \n",
       "1             0        0        1       0         0    0        0  \n",
       "2             0        0        0       0         1    0        0  \n",
       "3             0        1        0       0         1    0        0  \n",
       "4             0        1        0       0         1    0        0  \n",
       "...         ...      ...      ...     ...       ...  ...      ...  \n",
       "100831        0        0        0       0         1    0        0  \n",
       "100832        0        0        0       0         1    0        0  \n",
       "100833        0        0        0       0         0    0        0  \n",
       "100834        0        0        0       1         0    0        0  \n",
       "100835        0        0        0       0         1    0        0  \n",
       "\n",
       "[100836 rows x 23 columns]>"
      ]
     },
     "execution_count": 11,
     "metadata": {},
     "output_type": "execute_result"
    }
   ],
   "source": [
    "df = df.drop(columns=[\"title\"])\n",
    "df.head"
   ]
  },
  {
   "cell_type": "code",
   "execution_count": null,
   "metadata": {},
   "outputs": [
    {
     "data": {
      "image/png": "[encoded data removed]",
      "text/plain": [
       "<Figure size 640x480 with 1 Axes>"
      ]
     },
     "metadata": {},
     "output_type": "display_data"
    }
   ],
   "source": [
    "import numpy as np\n",
    "import matplotlib.pyplot as plt\n",
    "from sklearn.cluster import KMeans\n",
    "\n",
    "wcss = []\n",
    "for k in range(1, 11):  # Testing k from 1 to 10\n",
    "    kmeans = KMeans(n_clusters=k, random_state=2, n_init=10)\n",
    "    kmeans.fit(df)  # df should contain only numerical features (ratings + one-hot genres)\n",
    "    wcss.append(kmeans.inertia_)  # Inertia = sum of squared distances to closest cluster center\n",
    "\n",
    "# Plot the Elbow Curve\n",
    "plt.plot(range(1, 11), wcss, marker='o', linestyle='--')\n",
    "plt.xlabel('Number of Clusters (k)')\n",
    "plt.ylabel('WCSS (Inertia)')\n",
    "plt.title('Elbow Method for Optimal k')\n",
    "plt.show()\n"
   ]
  }
 ],
 "metadata": {
  "kernelspec": {
   "display_name": "myenv",
   "language": "python",
   "name": "python3"
  },
  "language_info": {
   "codemirror_mode": {
    "name": "ipython",
    "version": 3
   },
   "file_extension": ".py",
   "mimetype": "text/x-python",
   "name": "python",
   "nbconvert_exporter": "python",
   "pygments_lexer": "ipython3",
   "version": "3.12.3"
  }
 },
 "nbformat": 4,
 "nbformat_minor": 2
}
